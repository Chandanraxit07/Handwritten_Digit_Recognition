{
  "nbformat": 4,
  "nbformat_minor": 0,
  "metadata": {
    "colab": {
      "provenance": [],
      "gpuType": "T4"
    },
    "kernelspec": {
      "name": "python3",
      "display_name": "Python 3"
    },
    "language_info": {
      "name": "python"
    },
    "accelerator": "GPU"
  },
  "cells": [
    {
      "cell_type": "code",
      "execution_count": null,
      "metadata": {
        "colab": {
          "base_uri": "https://localhost:8080/"
        },
        "id": "ow_n65TDMXt3",
        "outputId": "8e818e82-f260-415b-cbd1-88ae9e29cef5"
      },
      "outputs": [
        {
          "output_type": "stream",
          "name": "stdout",
          "text": [
            "Downloading data from https://storage.googleapis.com/tensorflow/tf-keras-datasets/mnist.npz\n",
            "11490434/11490434 [==============================] - 0s 0us/step\n",
            "(60000, 28, 28) (60000,) (10000, 28, 28) (10000,)\n"
          ]
        }
      ],
      "source": [
        "import keras\n",
        "from keras.datasets import mnist\n",
        "from keras.models import Sequential\n",
        "from keras.layers import Dense, Dropout, Flatten\n",
        "from keras.layers import Conv2D, MaxPooling2D\n",
        "from keras import backend as K\n",
        "\n",
        "# the data, split between train and test sets\n",
        "(x_train, y_train), (x_test, y_test) = mnist.load_data()\n",
        "\n",
        "print(x_train.shape, y_train.shape,x_test.shape,y_test.shape)"
      ]
    },
    {
      "cell_type": "code",
      "source": [
        "x_train = x_train.reshape(x_train.shape[0], 28, 28, 1)\n",
        "x_test = x_test.reshape(x_test.shape[0], 28, 28, 1)\n",
        "input_shape = (28, 28, 1)\n",
        "num_classes = 10  # For classifying digits from 0 to 9 in the MNIST dataset\n",
        "\n",
        "\n",
        "# convert class vectors to binary class matrices\n",
        "y_train = keras.utils.to_categorical(y_train, num_classes)\n",
        "y_test = keras.utils.to_categorical(y_test, num_classes)\n",
        "\n",
        "x_train = x_train.astype('float32')\n",
        "x_test = x_test.astype('float32')\n",
        "x_train /= 255\n",
        "x_test /= 255\n",
        "print('x_train shape:', x_train.shape)\n",
        "print(x_train.shape[0], 'train samples')\n",
        "print(x_test.shape[0], 'test samples')"
      ],
      "metadata": {
        "colab": {
          "base_uri": "https://localhost:8080/"
        },
        "id": "3tL75JLDTBom",
        "outputId": "856e41e4-d500-4208-cbc7-5b10db611f7d"
      },
      "execution_count": null,
      "outputs": [
        {
          "output_type": "stream",
          "name": "stdout",
          "text": [
            "x_train shape: (60000, 28, 28, 1)\n",
            "60000 train samples\n",
            "10000 test samples\n"
          ]
        }
      ]
    },
    {
      "cell_type": "code",
      "source": [
        "batch_size = 128\n",
        "num_classes = 10\n",
        "epochs = 50\n",
        "\n",
        "model = Sequential()\n",
        "model.add(Conv2D(32, kernel_size=(3, 3),activation='relu',input_shape=input_shape))\n",
        "model.add(Conv2D(64, (3, 3), activation='relu'))\n",
        "model.add(MaxPooling2D(pool_size=(2, 2)))\n",
        "model.add(Dropout(0.25))\n",
        "model.add(Flatten())\n",
        "model.add(Dense(256, activation='relu'))\n",
        "model.add(Dropout(0.5))\n",
        "model.add(Dense(num_classes, activation='softmax'))\n",
        "\n",
        "model.compile(loss=keras.losses.categorical_crossentropy,optimizer=keras.optimizers.Adadelta(),metrics=['accuracy'])"
      ],
      "metadata": {
        "id": "OluTfZc7T-Q4"
      },
      "execution_count": null,
      "outputs": []
    },
    {
      "cell_type": "code",
      "source": [
        "mnist= model.fit(x_train, y_train,batch_size=batch_size,epochs=epochs,verbose=1,validation_data=(x_test, y_test))\n",
        "print(\"The model has successfully trained\")\n",
        "\n",
        "model.save('mnistproject.h5')\n",
        "print(\"Saving the model as mnist_project.h5\")"
      ],
      "metadata": {
        "colab": {
          "base_uri": "https://localhost:8080/"
        },
        "id": "MEH4de87XcMS",
        "outputId": "a2fb3ad7-f0a2-4e55-ddd5-52ee03c242f8"
      },
      "execution_count": null,
      "outputs": [
        {
          "output_type": "stream",
          "name": "stdout",
          "text": [
            "Epoch 1/50\n",
            "469/469 [==============================] - 6s 11ms/step - loss: 2.2718 - accuracy: 0.1443 - val_loss: 2.2283 - val_accuracy: 0.3056\n",
            "Epoch 2/50\n",
            "469/469 [==============================] - 5s 10ms/step - loss: 2.2004 - accuracy: 0.2918 - val_loss: 2.1383 - val_accuracy: 0.5701\n",
            "Epoch 3/50\n",
            "469/469 [==============================] - 5s 11ms/step - loss: 2.1048 - accuracy: 0.4223 - val_loss: 2.0084 - val_accuracy: 0.6876\n",
            "Epoch 4/50\n",
            "469/469 [==============================] - 5s 10ms/step - loss: 1.9621 - accuracy: 0.5235 - val_loss: 1.8222 - val_accuracy: 0.7381\n",
            "Epoch 5/50\n",
            "469/469 [==============================] - 5s 10ms/step - loss: 1.7714 - accuracy: 0.5962 - val_loss: 1.5824 - val_accuracy: 0.7783\n",
            "Epoch 6/50\n",
            "469/469 [==============================] - 5s 10ms/step - loss: 1.5452 - accuracy: 0.6483 - val_loss: 1.3178 - val_accuracy: 0.8077\n",
            "Epoch 7/50\n",
            "469/469 [==============================] - 5s 10ms/step - loss: 1.3259 - accuracy: 0.6785 - val_loss: 1.0784 - val_accuracy: 0.8250\n",
            "Epoch 8/50\n",
            "469/469 [==============================] - 5s 10ms/step - loss: 1.1388 - accuracy: 0.7071 - val_loss: 0.8939 - val_accuracy: 0.8381\n",
            "Epoch 9/50\n",
            "469/469 [==============================] - 6s 12ms/step - loss: 1.0020 - accuracy: 0.7268 - val_loss: 0.7636 - val_accuracy: 0.8480\n",
            "Epoch 10/50\n",
            "469/469 [==============================] - 5s 10ms/step - loss: 0.9069 - accuracy: 0.7416 - val_loss: 0.6726 - val_accuracy: 0.8556\n",
            "Epoch 11/50\n",
            "469/469 [==============================] - 5s 11ms/step - loss: 0.8283 - accuracy: 0.7574 - val_loss: 0.6071 - val_accuracy: 0.8625\n",
            "Epoch 12/50\n",
            "469/469 [==============================] - 5s 10ms/step - loss: 0.7732 - accuracy: 0.7695 - val_loss: 0.5585 - val_accuracy: 0.8684\n",
            "Epoch 13/50\n",
            "469/469 [==============================] - 5s 10ms/step - loss: 0.7278 - accuracy: 0.7829 - val_loss: 0.5213 - val_accuracy: 0.8721\n",
            "Epoch 14/50\n",
            "469/469 [==============================] - 5s 11ms/step - loss: 0.6942 - accuracy: 0.7904 - val_loss: 0.4922 - val_accuracy: 0.8766\n",
            "Epoch 15/50\n",
            "469/469 [==============================] - 5s 10ms/step - loss: 0.6601 - accuracy: 0.8007 - val_loss: 0.4683 - val_accuracy: 0.8803\n",
            "Epoch 16/50\n",
            "469/469 [==============================] - 5s 10ms/step - loss: 0.6353 - accuracy: 0.8080 - val_loss: 0.4485 - val_accuracy: 0.8837\n",
            "Epoch 17/50\n",
            "469/469 [==============================] - 5s 11ms/step - loss: 0.6151 - accuracy: 0.8128 - val_loss: 0.4320 - val_accuracy: 0.8867\n",
            "Epoch 18/50\n",
            "469/469 [==============================] - 5s 10ms/step - loss: 0.5949 - accuracy: 0.8207 - val_loss: 0.4174 - val_accuracy: 0.8886\n",
            "Epoch 19/50\n",
            "469/469 [==============================] - 5s 10ms/step - loss: 0.5759 - accuracy: 0.8235 - val_loss: 0.4050 - val_accuracy: 0.8911\n",
            "Epoch 20/50\n",
            "469/469 [==============================] - 5s 10ms/step - loss: 0.5625 - accuracy: 0.8280 - val_loss: 0.3937 - val_accuracy: 0.8933\n",
            "Epoch 21/50\n",
            "469/469 [==============================] - 5s 10ms/step - loss: 0.5469 - accuracy: 0.8326 - val_loss: 0.3835 - val_accuracy: 0.8958\n",
            "Epoch 22/50\n",
            "469/469 [==============================] - 5s 11ms/step - loss: 0.5363 - accuracy: 0.8365 - val_loss: 0.3749 - val_accuracy: 0.8976\n",
            "Epoch 23/50\n",
            "469/469 [==============================] - 5s 10ms/step - loss: 0.5227 - accuracy: 0.8403 - val_loss: 0.3667 - val_accuracy: 0.9002\n",
            "Epoch 24/50\n",
            "469/469 [==============================] - 5s 10ms/step - loss: 0.5126 - accuracy: 0.8443 - val_loss: 0.3595 - val_accuracy: 0.9008\n",
            "Epoch 25/50\n",
            "469/469 [==============================] - 5s 10ms/step - loss: 0.5026 - accuracy: 0.8482 - val_loss: 0.3525 - val_accuracy: 0.9030\n",
            "Epoch 26/50\n",
            "469/469 [==============================] - 5s 10ms/step - loss: 0.4938 - accuracy: 0.8494 - val_loss: 0.3460 - val_accuracy: 0.9042\n",
            "Epoch 27/50\n",
            "469/469 [==============================] - 5s 10ms/step - loss: 0.4856 - accuracy: 0.8503 - val_loss: 0.3400 - val_accuracy: 0.9061\n",
            "Epoch 28/50\n",
            "469/469 [==============================] - 5s 11ms/step - loss: 0.4807 - accuracy: 0.8542 - val_loss: 0.3347 - val_accuracy: 0.9070\n",
            "Epoch 29/50\n",
            "469/469 [==============================] - 5s 10ms/step - loss: 0.4725 - accuracy: 0.8560 - val_loss: 0.3291 - val_accuracy: 0.9084\n",
            "Epoch 30/50\n",
            "469/469 [==============================] - 5s 11ms/step - loss: 0.4606 - accuracy: 0.8609 - val_loss: 0.3241 - val_accuracy: 0.9096\n",
            "Epoch 31/50\n",
            "469/469 [==============================] - 5s 10ms/step - loss: 0.4553 - accuracy: 0.8622 - val_loss: 0.3191 - val_accuracy: 0.9104\n",
            "Epoch 32/50\n",
            "469/469 [==============================] - 5s 10ms/step - loss: 0.4503 - accuracy: 0.8628 - val_loss: 0.3149 - val_accuracy: 0.9119\n",
            "Epoch 33/50\n",
            "469/469 [==============================] - 5s 11ms/step - loss: 0.4451 - accuracy: 0.8652 - val_loss: 0.3103 - val_accuracy: 0.9125\n",
            "Epoch 34/50\n",
            "469/469 [==============================] - 5s 10ms/step - loss: 0.4383 - accuracy: 0.8657 - val_loss: 0.3065 - val_accuracy: 0.9128\n",
            "Epoch 35/50\n",
            "469/469 [==============================] - 5s 10ms/step - loss: 0.4369 - accuracy: 0.8677 - val_loss: 0.3025 - val_accuracy: 0.9139\n",
            "Epoch 36/50\n",
            "469/469 [==============================] - 5s 11ms/step - loss: 0.4275 - accuracy: 0.8713 - val_loss: 0.2987 - val_accuracy: 0.9150\n",
            "Epoch 37/50\n",
            "469/469 [==============================] - 5s 10ms/step - loss: 0.4237 - accuracy: 0.8719 - val_loss: 0.2950 - val_accuracy: 0.9162\n",
            "Epoch 38/50\n",
            "469/469 [==============================] - 5s 10ms/step - loss: 0.4176 - accuracy: 0.8729 - val_loss: 0.2918 - val_accuracy: 0.9160\n",
            "Epoch 39/50\n",
            "469/469 [==============================] - 5s 10ms/step - loss: 0.4100 - accuracy: 0.8749 - val_loss: 0.2882 - val_accuracy: 0.9171\n",
            "Epoch 40/50\n",
            "469/469 [==============================] - 5s 10ms/step - loss: 0.4093 - accuracy: 0.8772 - val_loss: 0.2849 - val_accuracy: 0.9184\n",
            "Epoch 41/50\n",
            "469/469 [==============================] - 5s 10ms/step - loss: 0.4033 - accuracy: 0.8784 - val_loss: 0.2820 - val_accuracy: 0.9192\n",
            "Epoch 42/50\n",
            "469/469 [==============================] - 5s 10ms/step - loss: 0.4021 - accuracy: 0.8797 - val_loss: 0.2789 - val_accuracy: 0.9192\n",
            "Epoch 43/50\n",
            "469/469 [==============================] - 5s 10ms/step - loss: 0.3956 - accuracy: 0.8810 - val_loss: 0.2757 - val_accuracy: 0.9199\n",
            "Epoch 44/50\n",
            "469/469 [==============================] - 5s 10ms/step - loss: 0.3910 - accuracy: 0.8814 - val_loss: 0.2729 - val_accuracy: 0.9210\n",
            "Epoch 45/50\n",
            "469/469 [==============================] - 5s 10ms/step - loss: 0.3888 - accuracy: 0.8827 - val_loss: 0.2703 - val_accuracy: 0.9209\n",
            "Epoch 46/50\n",
            "469/469 [==============================] - 5s 10ms/step - loss: 0.3833 - accuracy: 0.8850 - val_loss: 0.2674 - val_accuracy: 0.9229\n",
            "Epoch 47/50\n",
            "469/469 [==============================] - 5s 11ms/step - loss: 0.3821 - accuracy: 0.8848 - val_loss: 0.2646 - val_accuracy: 0.9227\n",
            "Epoch 48/50\n",
            "469/469 [==============================] - 5s 10ms/step - loss: 0.3809 - accuracy: 0.8849 - val_loss: 0.2621 - val_accuracy: 0.9237\n",
            "Epoch 49/50\n",
            "469/469 [==============================] - 5s 10ms/step - loss: 0.3764 - accuracy: 0.8868 - val_loss: 0.2594 - val_accuracy: 0.9242\n",
            "Epoch 50/50\n",
            "469/469 [==============================] - 5s 10ms/step - loss: 0.3712 - accuracy: 0.8898 - val_loss: 0.2567 - val_accuracy: 0.9251\n",
            "The model has successfully trained\n",
            "Saving the model as mnist_project.h5\n"
          ]
        }
      ]
    },
    {
      "cell_type": "code",
      "source": [
        "score = model.evaluate(x_test, y_test, verbose=0)\n",
        "print('Test loss:', score[0])\n",
        "print('Test accuracy:', score[1])"
      ],
      "metadata": {
        "colab": {
          "base_uri": "https://localhost:8080/"
        },
        "id": "QMJlQBatY-lP",
        "outputId": "996f8d06-9b1f-4888-fbdd-99f7cfbb87de"
      },
      "execution_count": null,
      "outputs": [
        {
          "output_type": "stream",
          "name": "stdout",
          "text": [
            "Test loss: 0.25673946738243103\n",
            "Test accuracy: 0.9251000285148621\n"
          ]
        }
      ]
    },
    {
      "cell_type": "code",
      "source": [],
      "metadata": {
        "id": "qUk4WDgTmYir"
      },
      "execution_count": null,
      "outputs": []
    },
    {
      "cell_type": "code",
      "source": [],
      "metadata": {
        "id": "iB3J5ZzN7l9m"
      },
      "execution_count": null,
      "outputs": []
    }
  ]
}